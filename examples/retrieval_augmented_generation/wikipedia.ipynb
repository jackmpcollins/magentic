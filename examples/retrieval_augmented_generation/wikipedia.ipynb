{
 "cells": [
  {
   "cell_type": "markdown",
   "metadata": {},
   "source": [
    "This notebook shows how to perform [Retrieval Augmented Generation (RAG)](https://arxiv.org/abs/2005.11401) using `magentic` and the `wikipedia` API. Essentially providing context to the LLM which it can use when generating its response. This approach allows us to insert new or private information that was not present in the model's training data. The Wikipedia API is used here for demonstration but the methods shown are applicable to any data source."
   ]
  },
  {
   "cell_type": "code",
   "execution_count": 1,
   "metadata": {},
   "outputs": [],
   "source": [
    "import wikipedia\n",
    "\n",
    "from magentic import prompt, prompt_chain"
   ]
  },
  {
   "cell_type": "markdown",
   "metadata": {},
   "source": [
    "Define a standard prompt for explaining a topic."
   ]
  },
  {
   "cell_type": "code",
   "execution_count": 2,
   "metadata": {},
   "outputs": [],
   "source": [
    "@prompt(\"Tell me about {topic} in simple terms. If you do not know, just say 'I do not know'.\")\n",
    "def explain_standard(topic: str) -> str:\n",
    "    ..."
   ]
  },
  {
   "cell_type": "markdown",
   "metadata": {},
   "source": [
    "The model can explain topics that were in the training data (e.g. Treaty of Versailles), but it cannot explain (or fabricates an explanation for) topics that were not in the training data (e.g. Wagner Coup).\n"
   ]
  },
  {
   "cell_type": "code",
   "execution_count": 3,
   "metadata": {},
   "outputs": [
    {
     "data": {
      "text/plain": [
       "'The Treaty of Versailles was a peace agreement signed in 1919 after World War I. It was meant to decide what would happen to the countries involved in the war. Germany, which was blamed for starting the war, had to accept full responsibility and pay a lot of money as reparations. They also had to give up some of their land and reduce their military. Many people in Germany were unhappy with the treaty, and some believe it contributed to the start of World War II.'"
      ]
     },
     "execution_count": 3,
     "metadata": {},
     "output_type": "execute_result"
    }
   ],
   "source": [
    "explain_standard(\"Treaty of Versailles\")"
   ]
  },
  {
   "cell_type": "code",
   "execution_count": 4,
   "metadata": {},
   "outputs": [
    {
     "data": {
      "text/plain": [
       "'I\\'m sorry, but I do not have any information about a \"Wagner Coup\" in my database. It\\'s possible that you may be referring to something specific that I\\'m not aware of.'"
      ]
     },
     "execution_count": 4,
     "metadata": {},
     "output_type": "execute_result"
    }
   ],
   "source": [
    "explain_standard(\"Wagner Coup\")"
   ]
  },
  {
   "cell_type": "markdown",
   "metadata": {},
   "source": [
    "Wikipedia has up-to-date information on most topics so it can be used to provide context to the LLM."
   ]
  },
  {
   "cell_type": "code",
   "execution_count": 5,
   "metadata": {},
   "outputs": [
    {
     "data": {
      "text/plain": [
       "'On 23 June 2023, the Wagner Group, a Russian government-funded paramilitary and private military company, staged a rebellion after a period of increasing tensions between the Russian Ministry of Defence and the leader of Wagner, Yevgeny Prigozhin.\\nWhile Prigozhin was supportive of the Russian invasion of Ukraine, he had previously publicly criticized Defense Minister Sergei Shoigu and Chief of the General Staff Valery Gerasimov, blaming them for the country\\'s military shortcomings and accusing them of handing over \"Russian territories\" to Ukraine. Prigozhin portrayed the rebellion as a response to an alleged attack on his forces by the ministry, and demanded that Shoigu and Gerasimov be turned over to him. In a televised address on 24 June, Russian president Vladimir Putin denounced Wagner\\'s actions as treason and pledged to quell the rebellion.\\nPrigozhin\\'s forces took control of Rostov-on-Don and the headquarters of the Southern Military District in the city. An armored column of Wagner troops advanced through Voronezh Oblast towards Moscow. Armed with mobile anti-aircraft systems, the rebels repelled the air attacks of the Russian military, whose actions did not deter the progress of the column. Ground defenses were concentrated on the approach to Moscow. Before Wagner reached the defenses, Belarusian president Alexander Lukashenko brokered a settlement with Prigozhin, who agreed to end the rebellion. On the late evening of 24 June, Wagner forces turned around, and those that had remained in Rostov-on-Don began withdrawing.\\nAs per the agreement, the Federal Security Service, which had initiated a case for armed rebellion under Article 279 of the Criminal Code closed the case on 27 June 2023, dropping the charges. At least thirteen servicemen of the Russian military were killed during the rebellion. On the rebels\\' side, several Wagner members were reported injured and two military defectors were killed according to Prigozhin.'"
      ]
     },
     "execution_count": 5,
     "metadata": {},
     "output_type": "execute_result"
    }
   ],
   "source": [
    "wikipedia.summary(\"Wagner Coup\")"
   ]
  },
  {
   "cell_type": "markdown",
   "metadata": {},
   "source": [
    "If the topics we receive are always present on Wikipedia then it might make sense to always query wikipedia and add this information to the context."
   ]
  },
  {
   "cell_type": "code",
   "execution_count": 6,
   "metadata": {},
   "outputs": [
    {
     "data": {
      "text/plain": [
       "\"The Wagner Coup was a rebellion that happened in Russia in June 2023. The Wagner Group, a paramilitary and private military company funded by the Russian government, staged the rebellion. The leader of Wagner, Yevgeny Prigozhin, was unhappy with the Russian Ministry of Defence and publicly criticized them. He accused them of causing military problems and giving away Russian territories to Ukraine. Prigozhin's forces took control of Rostov-on-Don and the headquarters of the Southern Military District. They also advanced towards Moscow with an armored column. The Russian military tried to stop them with air attacks, but the rebels had anti-aircraft systems and were able to repel the attacks. Before reaching Moscow, a settlement was brokered by the Belarusian president, and Prigozhin agreed to end the rebellion. The case of armed rebellion against Prigozhin was closed, and the charges were dropped. Several people were killed and injured during the rebellion.\""
      ]
     },
     "execution_count": 6,
     "metadata": {},
     "output_type": "execute_result"
    }
   ],
   "source": [
    "@prompt(\"\"\"Based on the following context, tell me about {topic} in simple terms.\n",
    "If you do not know, just say 'I do not know'.\n",
    "        \n",
    "context\n",
    "---\n",
    "{context}\n",
    "\"\"\")\n",
    "def explain_using_context(topic: str, context) -> str:\n",
    "    ...\n",
    "\n",
    "\n",
    "def explain_using_wikipedia_context(topic: str) -> str:\n",
    "    context = wikipedia.summary(topic)\n",
    "    return explain_using_context(topic, context=context)\n",
    "\n",
    "\n",
    "explain_using_wikipedia_context(\"Wagner Coup\")"
   ]
  },
  {
   "cell_type": "markdown",
   "metadata": {},
   "source": [
    "Alternatively, if we only need to query Wikipedia in some cases then we can provide a `wikipedia_summary` function for the LLM to use as needed. This will avoid querying Wikipedia in some cases. When Wikipedia _is_ queried two calls will be made to the LLM (one that decided to query wikipedia, and one to generate the explanation from the wikipedia summary)."
   ]
  },
  {
   "cell_type": "code",
   "execution_count": 7,
   "metadata": {},
   "outputs": [
    {
     "name": "stdout",
     "output_type": "stream",
     "text": [
      " - Searching Wikipedia for 'Wagner Coup'\n"
     ]
    },
    {
     "data": {
      "text/plain": [
       "'The Wagner Coup was a rebellion that took place on June 23, 2023, led by the Wagner Group, a Russian government-funded paramilitary and private military company. The coup was sparked by tensions between the Russian Ministry of Defence and the leader of Wagner, Yevgeny Prigozhin.\\n\\nPrigozhin, who supported the Russian invasion of Ukraine, had criticized Defense Minister Sergei Shoigu and Chief of the General Staff Valery Gerasimov for the country\\'s military shortcomings. He accused them of giving away \"Russian territories\" to Ukraine. Prigozhin claimed that the rebellion was in response to an alleged attack on his forces by the ministry and demanded that Shoigu and Gerasimov be handed over to him.\\n\\nRussian President Vladimir Putin denounced Wagner\\'s actions as treason and vowed to suppress the rebellion. Prigozhin\\'s forces took control of Rostov-on-Don and the headquarters of the Southern Military District. They also advanced towards Moscow with an armored column, repelling air attacks from the Russian military.\\n\\nBefore reaching Moscow\\'s defenses, a settlement was brokered by Belarusian President Alexander Lukashenko. Prigozhin agreed to end the rebellion, and Wagner forces began withdrawing. The Federal Security Service closed the case on armed rebellion, dropping the charges.\\n\\nDuring the coup, at least thirteen Russian military servicemen were killed, while several Wagner members were reported injured and two military defectors were killed according to Prigozhin.'"
      ]
     },
     "execution_count": 7,
     "metadata": {},
     "output_type": "execute_result"
    }
   ],
   "source": [
    "def wikipedia_summary(topic: str) -> str:\n",
    "    print(f\" - Searching Wikipedia for {topic!r}\")\n",
    "    return wikipedia.summary(topic)\n",
    "\n",
    "\n",
    "@prompt_chain(\n",
    "    \"Tell me about {topic} in simple terms. Only query wikipedia if you do not already know about {topic}.\",\n",
    "    functions=[wikipedia_summary],\n",
    ")\n",
    "def explain_using_function_calling(topic: str) -> str:\n",
    "    ...\n",
    "\n",
    "\n",
    "explain_using_function_calling(\"Wagner Coup\")"
   ]
  },
  {
   "cell_type": "markdown",
   "metadata": {},
   "source": [
    "Despite the function call being optional the LLM might decide to use it when it doesn't need to!"
   ]
  },
  {
   "cell_type": "code",
   "execution_count": 8,
   "metadata": {},
   "outputs": [
    {
     "name": "stdout",
     "output_type": "stream",
     "text": [
      " - Searching Wikipedia for 'Treaty of Versailles'\n"
     ]
    },
    {
     "data": {
      "text/plain": [
       "\"The Treaty of Versailles was a peace treaty signed in 1919 to end World War I. It was signed in the Palace of Versailles, France. The treaty was important because it ended the state of war between Germany and most of the Allied Powers. Germany was blamed for causing the war and was required to accept responsibility for the damage caused. The treaty also required Germany to disarm, give up territory, and pay reparations to the countries that had been affected by the war. The treaty was controversial because some people thought it was too harsh on Germany, while others thought it was too lenient. The treaty's terms had long-lasting effects, including economic collapse in Germany and the rise of the Nazi Party, which eventually led to World War II.\""
      ]
     },
     "execution_count": 8,
     "metadata": {},
     "output_type": "execute_result"
    }
   ],
   "source": [
    "explain_using_function_calling(\"Treaty of Versailles\")"
   ]
  },
  {
   "cell_type": "markdown",
   "metadata": {},
   "source": [
    "One way to combat this is to create a simple explain function that returns `None` for unknown answers, then explicitly check whether the model was able to respond without the wikipedia context, and call the LLM with the wikipedia context if not. Essentially we take some responsibility away from the LLM and put it in code instead. This approach makes most sense if the function for fetching context is slow or expensive, or should only be needed infrequently."
   ]
  },
  {
   "cell_type": "code",
   "execution_count": 9,
   "metadata": {},
   "outputs": [
    {
     "name": "stdout",
     "output_type": "stream",
     "text": [
      " - Received null response\n"
     ]
    },
    {
     "data": {
      "text/plain": [
       "\"The Wagner Coup was a rebellion that happened in Russia in June 2023. The Wagner Group, a paramilitary and private military company funded by the Russian government, staged the rebellion. The leader of Wagner, Yevgeny Prigozhin, was unhappy with the Russian Ministry of Defence and publicly criticized them. He accused them of causing military problems and giving away Russian territories to Ukraine. Prigozhin's forces took control of Rostov-on-Don and the headquarters of the Southern Military District. They also advanced towards Moscow with an armored column. The Russian military tried to stop them, but the rebels had anti-aircraft systems that repelled the attacks. Before reaching Moscow, a settlement was brokered by the Belarusian president, and Prigozhin agreed to end the rebellion. The case of armed rebellion against the rebels was closed, and several people were killed or injured during the conflict.\""
      ]
     },
     "execution_count": 9,
     "metadata": {},
     "output_type": "execute_result"
    }
   ],
   "source": [
    "@prompt(\"Tell me about {topic} in simple terms. If you do not know, return null.\")\n",
    "def explain_or_none(topic: str) -> str | None:\n",
    "    ...\n",
    "\n",
    "\n",
    "def explain_final(topic: str) -> str:\n",
    "    explanation = explain_or_none(topic)\n",
    "    if not explanation:\n",
    "        print(\" - Received null response\")\n",
    "        return explain_using_wikipedia_context(topic)\n",
    "    return explanation\n",
    "\n",
    "explain_final(\"Wagner Coup\")"
   ]
  },
  {
   "cell_type": "code",
   "execution_count": 10,
   "metadata": {},
   "outputs": [
    {
     "data": {
      "text/plain": [
       "\"The Treaty of Versailles was a peace treaty signed after World War I. It was signed in 1919 in the Palace of Versailles in France. The treaty placed the blame for the war on Germany and its allies. It imposed heavy reparations on Germany, meaning they had to pay a lot of money to the countries that were affected by the war. The treaty also limited the size of Germany's military and took away some of its territory. Many people believe that the harsh terms of the treaty contributed to the rise of Adolf Hitler and the start of World War II.\""
      ]
     },
     "execution_count": 10,
     "metadata": {},
     "output_type": "execute_result"
    }
   ],
   "source": [
    "explain_final(\"Treaty of Versailles\")"
   ]
  }
 ],
 "metadata": {
  "kernelspec": {
   "display_name": ".venv",
   "language": "python",
   "name": "python3"
  },
  "language_info": {
   "codemirror_mode": {
    "name": "ipython",
    "version": 3
   },
   "file_extension": ".py",
   "mimetype": "text/x-python",
   "name": "python",
   "nbconvert_exporter": "python",
   "pygments_lexer": "ipython3",
   "version": "3.10.8"
  },
  "orig_nbformat": 4
 },
 "nbformat": 4,
 "nbformat_minor": 2
}

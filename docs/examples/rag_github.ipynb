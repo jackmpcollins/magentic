{
 "cells": [
  {
   "cell_type": "markdown",
   "metadata": {},
   "source": [
    "# Retrieval-Augmented Generation with GitHub\n",
    "\n",
    "This notebook demonstrates how to perform [Retrieval-Augmented Generation (RAG)](https://arxiv.org/abs/2005.11401) with magentic using the GitHub API. Essentially, RAG provides context to the LLM which it can use when generating its response. This approach allows us to insert new or private information that was not present in the model's training data."
   ]
  },
  {
   "cell_type": "code",
   "execution_count": null,
   "metadata": {},
   "outputs": [],
   "source": [
    "# Install dependencies (skip this cell if already installed)\n",
    "! pip install magentic\n",
    "! pip install ghapi"
   ]
  },
  {
   "cell_type": "code",
   "execution_count": 2,
   "metadata": {},
   "outputs": [
    {
     "name": "stdout",
     "output_type": "stream",
     "text": [
      "env: MAGENTIC_OPENAI_MODEL=gpt-3.5-turbo\n"
     ]
    }
   ],
   "source": [
    "# Configure magentic to use the `gpt-3.5-turbo` model for this notebook\n",
    "%env MAGENTIC_OPENAI_MODEL=gpt-3.5-turbo"
   ]
  },
  {
   "cell_type": "markdown",
   "metadata": {},
   "source": [
    "Let's start by creating a prompt-function to generate some text recommending GitHub repos for a topic."
   ]
  },
  {
   "cell_type": "code",
   "execution_count": 3,
   "metadata": {},
   "outputs": [
    {
     "data": {
      "text/markdown": [
       "1. Hugging Face Transformers: This repository contains a library for Natural Language Processing (NLP) tasks using the latest Transformer models, including LLMs. It is actively maintained by Hugging Face, a popular NLP research group, and has a large community contributing to it.\n",
       "\n",
       "Link: https://github.com/huggingface/transformers\n",
       "\n",
       "2. OpenAI GPT-3: This repository contains the code for OpenAI's GPT-3 model, one of the most advanced LLMs available. While the repository may not be frequently updated due to proprietary restrictions, it provides valuable insights into how state-of-the-art LLMs are implemented.\n",
       "\n",
       "Link: https://github.com/openai/gpt-3\n",
       "\n",
       "3. AllenNLP: AllenNLP is a deep learning library for NLP research that provides easy-to-use tools for building and experimenting with LLMs. The repository is actively maintained by the Allen Institute for AI and offers a wide range of pre-trained models, including BERT and GPT-2.\n",
       "\n",
       "Link: https://github.com/allenai/allennlp\n",
       "\n",
       "Please note that the availability and maintenance status of these repositories may change over time, so it's a good idea to check for the latest updates before diving in."
      ],
      "text/plain": [
       "<IPython.core.display.Markdown object>"
      ]
     },
     "metadata": {},
     "output_type": "display_data"
    }
   ],
   "source": [
    "# Create a prompt-function to describe the latest GitHub repos\n",
    "\n",
    "from IPython.display import Markdown, display\n",
    "\n",
    "from magentic import prompt\n",
    "\n",
    "\n",
    "@prompt(\n",
    "    \"\"\"What are the latest github repos I should use related to {topic}?\n",
    "    Recommend three in particular that I should check out and why.\n",
    "    Provide a link to each, and a note on whether they are actively maintained.\n",
    "    \"\"\"\n",
    ")\n",
    "def recommmend_github_repos(topic: str) -> str: ...\n",
    "\n",
    "\n",
    "output = recommmend_github_repos(\"LLMs\")\n",
    "display(Markdown(output))"
   ]
  },
  {
   "cell_type": "markdown",
   "metadata": {},
   "source": [
    "The LLM has no knowledge of GitHub repos created after its knowledge cutoff date! Also, it occasionally hallucinates some of its answers. To solve these issues we need to provide it with up-to-date information in the prompt, which it can use to generate an informed answer.\n",
    "\n",
    "First we'll create a function for searching for GitHub repos."
   ]
  },
  {
   "cell_type": "code",
   "execution_count": 4,
   "metadata": {},
   "outputs": [],
   "source": [
    "# Create a function to search for GitHub repos\n",
    "\n",
    "from ghapi.all import GhApi\n",
    "from pydantic import BaseModel\n",
    "\n",
    "github = GhApi(authenticate=False)\n",
    "\n",
    "\n",
    "class GithubRepo(BaseModel):\n",
    "    full_name: str\n",
    "    description: str\n",
    "    html_url: str\n",
    "    stargazers_count: int\n",
    "    pushed_at: str\n",
    "\n",
    "\n",
    "def search_github_repos(query: str, num_results: int = 10):\n",
    "    results = github.search.repos(query, per_page=num_results)\n",
    "    return [GithubRepo.model_validate(item) for item in results[\"items\"]]"
   ]
  },
  {
   "cell_type": "code",
   "execution_count": 5,
   "metadata": {},
   "outputs": [
    {
     "name": "stdout",
     "output_type": "stream",
     "text": [
      "{\n",
      "  \"full_name\": \"openai/openai-cookbook\",\n",
      "  \"description\": \"Examples and guides for using the OpenAI API\",\n",
      "  \"html_url\": \"https://github.com/openai/openai-cookbook\",\n",
      "  \"stargazers_count\": 55805,\n",
      "  \"pushed_at\": \"2024-04-19T19:05:02Z\"\n",
      "}\n",
      "{\n",
      "  \"full_name\": \"betalgo/openai\",\n",
      "  \"description\": \"OpenAI .NET sdk - Azure OpenAI, ChatGPT, Whisper,  and DALL-E \",\n",
      "  \"html_url\": \"https://github.com/betalgo/openai\",\n",
      "  \"stargazers_count\": 2721,\n",
      "  \"pushed_at\": \"2024-04-20T22:50:28Z\"\n",
      "}\n",
      "{\n",
      "  \"full_name\": \"openai/openai-python\",\n",
      "  \"description\": \"The official Python library for the OpenAI API\",\n",
      "  \"html_url\": \"https://github.com/openai/openai-python\",\n",
      "  \"stargazers_count\": 19786,\n",
      "  \"pushed_at\": \"2024-04-21T01:04:42Z\"\n",
      "}\n"
     ]
    }
   ],
   "source": [
    "# Test that github search works\n",
    "\n",
    "for item in search_github_repos(\"openai\", num_results=3):\n",
    "    print(item.model_dump_json(indent=2))"
   ]
  },
  {
   "cell_type": "markdown",
   "metadata": {},
   "source": [
    "Now, we can provide the results of the search as context to the LLM to create an improved `recommmend_github_repos` function."
   ]
  },
  {
   "cell_type": "code",
   "execution_count": 6,
   "metadata": {},
   "outputs": [
    {
     "data": {
      "text/markdown": [
       "Based on the latest search results, here are three GitHub repos related to Large Language Models (LLMs) that you should check out:\n",
       "\n",
       "1. **[gpt4all](https://github.com/nomic-ai/gpt4all)**:\n",
       "   - Description: gpt4all: run open-source LLMs anywhere\n",
       "   - Stargazers Count: 63,790\n",
       "   - Last Pushed: 2024-04-19\n",
       "   - Active Maintenance: Yes\n",
       "\n",
       "2. **[LLaMA-Factory](https://github.com/hiyouga/LLaMA-Factory)**:\n",
       "   - Description: Unify Efficient Fine-Tuning of 100+ LLMs\n",
       "   - Stargazers Count: 17,047\n",
       "   - Last Pushed: 2024-04-21\n",
       "   - Active Maintenance: Yes\n",
       "\n",
       "3. **[LLMsPracticalGuide](https://github.com/Mooler0410/LLMsPracticalGuide)**:\n",
       "   - Description: A curated list of practical guide resources of LLMs (LLMs Tree, Examples, Papers)\n",
       "   - Stargazers Count: 8,484\n",
       "   - Last Pushed: 2024-01-10\n",
       "   - Active Maintenance: It seems less actively maintained compared to the other two repos, but still worth checking out.\n",
       "\n",
       "These repos cover a range of topics related to LLMs and can provide valuable resources and tools for your projects."
      ],
      "text/plain": [
       "<IPython.core.display.Markdown object>"
      ]
     },
     "metadata": {},
     "output_type": "display_data"
    }
   ],
   "source": [
    "# Combine the search with a prompt-function to describe the latest GitHub repos\n",
    "\n",
    "from magentic import prompt\n",
    "\n",
    "\n",
    "@prompt(\n",
    "    \"\"\"What are the latest github repos I should use related to {topic}?\n",
    "    Recommend three in particular that I should check out and why.\n",
    "    Provide a link to each, and a note on whether they are actively maintained.\n",
    "\n",
    "    Here are the latest search results for this topic on GitHub:\n",
    "    {search_results}\n",
    "    \"\"\",\n",
    ")\n",
    "def recommmend_github_repos_using_search_results(\n",
    "    topic: str, search_results: list[GithubRepo]\n",
    ") -> str: ...\n",
    "\n",
    "\n",
    "def recommmend_github_repos(topic: str) -> str:\n",
    "    search_results = search_github_repos(topic, num_results=10)\n",
    "    return recommmend_github_repos_using_search_results(topic, search_results)\n",
    "\n",
    "\n",
    "output = recommmend_github_repos(\"LLMs\")\n",
    "display(Markdown(output))"
   ]
  },
  {
   "cell_type": "markdown",
   "metadata": {},
   "source": [
    "Now the answer contains up-to-date and correct information!"
   ]
  }
 ],
 "metadata": {
  "kernelspec": {
   "display_name": ".venv",
   "language": "python",
   "name": "python3"
  },
  "language_info": {
   "codemirror_mode": {
    "name": "ipython",
    "version": 3
   },
   "file_extension": ".py",
   "mimetype": "text/x-python",
   "name": "python",
   "nbconvert_exporter": "python",
   "pygments_lexer": "ipython3",
   "version": "3.10.8"
  }
 },
 "nbformat": 4,
 "nbformat_minor": 2
}

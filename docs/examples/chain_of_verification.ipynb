{
 "cells": [
  {
   "cell_type": "markdown",
   "metadata": {},
   "source": [
    "# Chain of Verification (CoVe)\n",
    "\n",
    "This notebook is a basic implementation of the paper Chain-of-Verification Reduces Hallucination In Large Language Models (2023) ([arXiv: [2309.11495]](https://arxiv.org/abs/2309.11495))."
   ]
  },
  {
   "cell_type": "code",
   "execution_count": 1,
   "metadata": {},
   "outputs": [],
   "source": [
    "# Define the prompts\n",
    "\n",
    "import asyncio\n",
    "\n",
    "from magentic import prompt\n",
    "\n",
    "\n",
    "@prompt(\"{query}\")\n",
    "async def answer_query(query: str) -> str: ...\n",
    "\n",
    "\n",
    "@prompt(\n",
    "    \"\"\"\\\n",
    "Query: {query}\n",
    "Response: {response}\n",
    "\n",
    "Provide specific questions to verify the facts in the above response as related to the query.\n",
    "\"\"\"\n",
    ")\n",
    "async def generate_verification_questions(query: str, response: str) -> list[str]: ...\n",
    "\n",
    "\n",
    "@prompt(\n",
    "    \"\"\"\\\n",
    "{context}\n",
    "\n",
    "Given the above context, what is the answer to the following question?\n",
    "\n",
    "{query}\"\"\"\n",
    ")\n",
    "async def answer_query_with_context(query: str, context: str) -> str: ..."
   ]
  },
  {
   "cell_type": "code",
   "execution_count": 2,
   "metadata": {},
   "outputs": [
    {
     "name": "stdout",
     "output_type": "stream",
     "text": [
      "Here are some politicians who were born in New York, New York:\n",
      "\n",
      "1. Franklin D. Roosevelt - 32nd President of the United States.\n",
      "2. Theodore Roosevelt - 26th President of the United States.\n",
      "3. Donald Trump - 45th President of the United States.\n",
      "4. Hillary Clinton - Former Secretary of State and Democratic nominee for President in 2016.\n",
      "5. Michael Bloomberg - Former Mayor of New York City and businessman.\n",
      "6. Rudy Giuliani - Former Mayor of New York City and attorney.\n",
      "7. Chuck Schumer - U.S. Senator from New York and current Senate Majority Leader.\n",
      "8. Kirsten Gillibrand - U.S. Senator from New York.\n",
      "9. Mario Cuomo - Former Governor of New York.\n",
      "10. Andrew Cuomo - Current Governor of New York.\n",
      "\n",
      "Please note that this is not an exhaustive list, and there are many more politicians who were born in New York, New York.\n"
     ]
    }
   ],
   "source": [
    "# 1. Generate Baseline Response\n",
    "# Given a query, generate the response using the LLM.\n",
    "\n",
    "query = \"Name some politicians who were born in NY, New York\"\n",
    "\n",
    "baseline_response = await answer_query(query)\n",
    "print(baseline_response)"
   ]
  },
  {
   "cell_type": "code",
   "execution_count": 3,
   "metadata": {},
   "outputs": [
    {
     "name": "stdout",
     "output_type": "stream",
     "text": [
      "Was Franklin D. Roosevelt born in New York, New York?\n",
      "Was Theodore Roosevelt born in New York, New York?\n",
      "Was Donald Trump born in New York, New York?\n",
      "Was Hillary Clinton born in New York, New York?\n",
      "Was Michael Bloomberg born in New York, New York?\n",
      "Was Rudy Giuliani born in New York, New York?\n",
      "Was Chuck Schumer born in New York, New York?\n",
      "Was Kirsten Gillibrand born in New York, New York?\n",
      "Was Mario Cuomo born in New York, New York?\n",
      "Is Andrew Cuomo the current Governor of New York?\n"
     ]
    }
   ],
   "source": [
    "# 2. Plan Verifications\n",
    "# Given both query and baseline response, generate a list of verification questions\n",
    "# that could help to self-analyze if there are any mistakes in the original response.\n",
    "\n",
    "verification_questions = await generate_verification_questions(query, baseline_response)\n",
    "\n",
    "for q in verification_questions:\n",
    "    print(q)"
   ]
  },
  {
   "cell_type": "code",
   "execution_count": 4,
   "metadata": {},
   "outputs": [
    {
     "name": "stdout",
     "output_type": "stream",
     "text": [
      "Yes, Franklin D. Roosevelt was born on January 30, 1882, in Hyde Park, New York, which is located in Dutchess County.\n",
      "Yes, Theodore Roosevelt was born in New York City, New York on October 27, 1858. Specifically, he was born in a house located at 28 East 20th Street in Manhattan.\n",
      "Yes, Donald Trump was indeed born in New York, New York on June 14, 1946.\n",
      "No, Hillary Clinton was not born in New York, New York. She was born on October 26, 1947, in Chicago, Illinois.\n",
      "No, Michael Bloomberg was born in Boston, Massachusetts on February 14, 1942.\n",
      "Yes, Rudy Giuliani was born in New York, New York. He was born on May 28, 1944, in the Brooklyn borough of New York City.\n",
      "Yes, Chuck Schumer was born in Brooklyn, New York on November 23, 1950.\n",
      "No, Kirsten Gillibrand was born in Albany, New York on December 9, 1966.\n",
      "Yes, Mario Cuomo was born in New York City, New York, United States. He was born on June 15, 1932, in the borough of Queens, specifically in the neighborhood of South Jamaica.\n",
      "As of September 2021, Andrew Cuomo is the current Governor of New York. However, please note that political positions can change, and it is always recommended to verify the information with up-to-date sources.\n"
     ]
    }
   ],
   "source": [
    "# 3. Execute Verifications\n",
    "# Answer each verification question in turn, and hence check the answer against the\n",
    "# original response to check for inconsistencies or mistakes.\n",
    "\n",
    "verification_answers = await asyncio.gather(\n",
    "    *(answer_query(question) for question in verification_questions)\n",
    ")\n",
    "\n",
    "for ans in verification_answers:\n",
    "    print(ans)"
   ]
  },
  {
   "cell_type": "code",
   "execution_count": 5,
   "metadata": {},
   "outputs": [
    {
     "name": "stdout",
     "output_type": "stream",
     "text": [
      "Some politicians who were born in New York, New York include Franklin D. Roosevelt, Theodore Roosevelt, Donald Trump, Rudy Giuliani, and Mario Cuomo.\n"
     ]
    }
   ],
   "source": [
    "# 4. Generate Final Verified Response\n",
    "# Given the discovered inconsistencies (if any), generate a revised response\n",
    "# incorporating the verification results.\n",
    "\n",
    "context = \"\\n\".join(verification_answers)\n",
    "verified_response = await answer_query_with_context(query, context)\n",
    "print(verified_response)"
   ]
  }
 ],
 "metadata": {
  "kernelspec": {
   "display_name": ".venv",
   "language": "python",
   "name": "python3"
  },
  "language_info": {
   "codemirror_mode": {
    "name": "ipython",
    "version": 3
   },
   "file_extension": ".py",
   "mimetype": "text/x-python",
   "name": "python",
   "nbconvert_exporter": "python",
   "pygments_lexer": "ipython3",
   "version": "3.10.8"
  },
  "orig_nbformat": 4
 },
 "nbformat": 4,
 "nbformat_minor": 2
}
